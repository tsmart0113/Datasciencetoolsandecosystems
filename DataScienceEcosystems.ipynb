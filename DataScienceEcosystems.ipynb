{
 "cells": [
  {
   "cell_type": "markdown",
   "id": "4ee19436-0a67-426d-8567-d24a3d282fe8",
   "metadata": {},
   "source": [
    "# Data Science Tools and Ecosytems\n"
   ]
  },
  {
   "cell_type": "markdown",
   "id": "49637280-5476-42d2-a40d-4fa3fd5d71e3",
   "metadata": {},
   "source": [
    "__Objectives__\n",
    "* Popular Languages used in Data Science\n",
    "* Popular Libraries used in Data Science \n",
    "* Arithmeitc expressions in Python\n",
    "\n"
   ]
  },
  {
   "cell_type": "markdown",
   "id": "bd1fa8d0-c50e-4296-91c2-eb7d0bc57878",
   "metadata": {},
   "source": [
    "In this notebook, Data Science Tools and Ecosystems are summarized."
   ]
  },
  {
   "cell_type": "markdown",
   "id": "303e39b8-ebfb-43b8-a253-4871e45d3576",
   "metadata": {},
   "source": [
    "Some of the popular languages that Data Scientists use are:\n",
    "1. Python\n",
    "2. SQL\n",
    "3. R\n",
    "4. C++\n",
    "5. JavaScript"
   ]
  },
  {
   "cell_type": "markdown",
   "id": "a6cf7c02-5971-4f5e-89d6-dba024107236",
   "metadata": {},
   "source": [
    "Some of the commonly used libraries used by Data Scientists include:\n",
    "1. TensorFlow\n",
    "2. Pandas\n",
    "3. PyTorch\n",
    "4. SciPy\n"
   ]
  },
  {
   "cell_type": "markdown",
   "id": "184cb0fa-410e-4cd5-8b8d-2e33974876f6",
   "metadata": {},
   "source": [
    "| Data Science tools |\n",
    "| :- |\n",
    "| RStudio |\n",
    "| Apache Spark |\n",
    "| TensorFlow |\n"
   ]
  },
  {
   "cell_type": "markdown",
   "id": "4e03f8bf-34c3-4911-a4fc-815f9809f817",
   "metadata": {},
   "source": [
    "### Below are a few examples of evaluating arithmetic expressions in Python\n"
   ]
  },
  {
   "cell_type": "markdown",
   "id": "4d350212-feb7-40be-a06a-e928eda3ceb4",
   "metadata": {},
   "source": [
    "This is a simple arithmetic expression to multiply then add integers"
   ]
  },
  {
   "cell_type": "code",
   "execution_count": 4,
   "id": "9c890f58-ea69-4219-8b9b-354b5576e0a4",
   "metadata": {
    "tags": []
   },
   "outputs": [
    {
     "data": {
      "text/plain": [
       "17"
      ]
     },
     "execution_count": 4,
     "metadata": {},
     "output_type": "execute_result"
    }
   ],
   "source": [
    "(3*4)+5"
   ]
  },
  {
   "cell_type": "markdown",
   "id": "fb36797e-f83d-4e08-849b-6cd294048d7f",
   "metadata": {},
   "source": [
    "## Author\n",
    "Tyler Smart"
   ]
  },
  {
   "cell_type": "code",
   "execution_count": null,
   "id": "e7bdb25f-b3f3-40f0-b774-db8f84dda0e8",
   "metadata": {},
   "outputs": [],
   "source": []
  }
 ],
 "metadata": {
  "kernelspec": {
   "display_name": "Python",
   "language": "python",
   "name": "conda-env-python-py"
  },
  "language_info": {
   "codemirror_mode": {
    "name": "ipython",
    "version": 3
   },
   "file_extension": ".py",
   "mimetype": "text/x-python",
   "name": "python",
   "nbconvert_exporter": "python",
   "pygments_lexer": "ipython3",
   "version": "3.7.12"
  }
 },
 "nbformat": 4,
 "nbformat_minor": 5
}
